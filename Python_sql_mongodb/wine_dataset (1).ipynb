{
 "cells": [
  {
   "cell_type": "code",
   "execution_count": 1,
   "metadata": {},
   "outputs": [],
   "source": [
    "from collections import Counter, defaultdict\n",
    "import pandas as pd\n",
    "import numpy as np\n",
    "import json\n",
    "import csv"
   ]
  },
  {
   "cell_type": "code",
   "execution_count": 2,
   "metadata": {},
   "outputs": [],
   "source": [
    "df = pd.read_csv(\"/Users/ali/Downloads/project_3-main 2/Resources/winemag-data-130k-v2.csv\")\n",
    "data_path = \"data/winemag-data-130k-v2.csv\""
   ]
  },
  {
   "cell_type": "code",
   "execution_count": 3,
   "metadata": {},
   "outputs": [],
   "source": [
    "df = (pd.read_csv(data_path)).drop(['Unnamed: 0'], axis=1)"
   ]
  },
  {
   "cell_type": "code",
   "execution_count": 7,
   "metadata": {},
   "outputs": [],
   "source": [
    "country_point = defaultdict(int)\n",
    "country_price = defaultdict(float)\n",
    "country_count = Counter()"
   ]
  },
  {
   "cell_type": "code",
   "execution_count": 8,
   "metadata": {},
   "outputs": [],
   "source": [
    "for ind, row in df.iterrows():\n",
    "    country_point[row['country']] += row['points']\n",
    "    country_price[row['country']] += row['price']\n",
    "    country_count[row['country']] += 1"
   ]
  },
  {
   "cell_type": "code",
   "execution_count": 9,
   "metadata": {},
   "outputs": [],
   "source": [
    "for c, s in country_point.items():\n",
    "    country_point[c] = s / country_count[c]\n",
    "for c, s in country_price.items():\n",
    "    country_price[c] = s / country_count[c]"
   ]
  },
  {
   "cell_type": "code",
   "execution_count": 10,
   "metadata": {
    "scrolled": true
   },
   "outputs": [
    {
     "data": {
      "text/plain": [
       "defaultdict(int,\n",
       "            {'Portugal': 88.31671794871795,\n",
       "             'US': 88.56638717405326,\n",
       "             'Spain': 87.29073482428115,\n",
       "             'Italy': 88.61818611800875,\n",
       "             'France': 88.73486723672367,\n",
       "             'Germany': 89.83632075471698,\n",
       "             'Argentina': 86.71033013844516,\n",
       "             'Chile': 86.49547101449275,\n",
       "             'Australia': 88.59546643417612,\n",
       "             'Austria': 90.19078242229368,\n",
       "             'South Africa': 87.83139984532096,\n",
       "             'New Zealand': 88.30841799709724,\n",
       "             'Israel': 88.49693251533742,\n",
       "             'Hungary': 89.1655172413793,\n",
       "             'Greece': 87.2885032537961,\n",
       "             'Romania': 86.4,\n",
       "             'Mexico': 85.25714285714285,\n",
       "             'Canada': 89.37795275590551,\n",
       "             'Turkey': 88.08888888888889,\n",
       "             'Czech Republic': 87.25,\n",
       "             'Slovenia': 88.0125,\n",
       "             'Luxembourg': 88.66666666666667,\n",
       "             'Croatia': 87.35211267605634,\n",
       "             'Georgia': 87.67857142857143,\n",
       "             'Uruguay': 86.75229357798165,\n",
       "             'England': 91.55072463768116,\n",
       "             'Lebanon': 87.68571428571428,\n",
       "             'Serbia': 87.5,\n",
       "             'Brazil': 84.65957446808511,\n",
       "             'Moldova': 87.20338983050847,\n",
       "             'Morocco': 88.57142857142857,\n",
       "             'Peru': 83.5625,\n",
       "             'India': 90.22222222222223,\n",
       "             'Bulgaria': 87.93617021276596,\n",
       "             'Cyprus': 87.18181818181819,\n",
       "             'Armenia': 87.5,\n",
       "             'Switzerland': 88.57142857142857,\n",
       "             'Bosnia and Herzegovina': 86.5,\n",
       "             'Ukraine': 84.07142857142857,\n",
       "             'Slovakia': 87.0,\n",
       "             'Macedonia': 86.83333333333333,\n",
       "             'China': 89.0})"
      ]
     },
     "execution_count": 10,
     "metadata": {},
     "output_type": "execute_result"
    }
   ],
   "source": [
    "country_point"
   ]
  },
  {
   "cell_type": "code",
   "execution_count": 11,
   "metadata": {
    "scrolled": true
   },
   "outputs": [
    {
     "data": {
      "text/plain": [
       "Counter({'Portugal': 4875,\n",
       "         'US': 54265,\n",
       "         'Spain': 6573,\n",
       "         'Italy': 16914,\n",
       "         'France': 17776,\n",
       "         'Germany': 2120,\n",
       "         'Argentina': 3756,\n",
       "         'Chile': 4416,\n",
       "         'Australia': 2294,\n",
       "         'Austria': 2799,\n",
       "         'South Africa': 1293,\n",
       "         'New Zealand': 1378,\n",
       "         'Israel': 489,\n",
       "         'Hungary': 145,\n",
       "         'Greece': 461,\n",
       "         'Romania': 120,\n",
       "         'Mexico': 70,\n",
       "         'Canada': 254,\n",
       "         'Turkey': 90,\n",
       "         'Czech Republic': 12,\n",
       "         'Slovenia': 80,\n",
       "         'Luxembourg': 6,\n",
       "         'Croatia': 71,\n",
       "         'Georgia': 84,\n",
       "         'Uruguay': 109,\n",
       "         'England': 69,\n",
       "         'Lebanon': 35,\n",
       "         'Serbia': 12,\n",
       "         'Brazil': 47,\n",
       "         'Moldova': 59,\n",
       "         'Morocco': 28,\n",
       "         'Peru': 16,\n",
       "         'India': 9,\n",
       "         'Bulgaria': 141,\n",
       "         'Cyprus': 11,\n",
       "         'Armenia': 2,\n",
       "         'Switzerland': 7,\n",
       "         'Bosnia and Herzegovina': 2,\n",
       "         'Ukraine': 14,\n",
       "         'Slovakia': 1,\n",
       "         'Macedonia': 12,\n",
       "         'China': 1})"
      ]
     },
     "execution_count": 11,
     "metadata": {},
     "output_type": "execute_result"
    }
   ],
   "source": [
    "country_count"
   ]
  },
  {
   "cell_type": "code",
   "execution_count": 12,
   "metadata": {
    "scrolled": true
   },
   "outputs": [
    {
     "data": {
      "text/plain": [
       "defaultdict(float,\n",
       "            {'Portugal': 26.21825641025641,\n",
       "             'US': 36.5734635584631,\n",
       "             'Spain': 28.215274608245853,\n",
       "             'Italy': 39.663769658271256,\n",
       "             'France': 41.139120162016205,\n",
       "             'Germany': 42.25754716981132,\n",
       "             'Argentina': 24.510117145899894,\n",
       "             'Chile': 20.786458333333332,\n",
       "             'Australia': 35.43766346992153,\n",
       "             'Austria': 30.76277241872097,\n",
       "             'South Africa': 24.668986852281517,\n",
       "             'New Zealand': 26.93178519593614,\n",
       "             'Israel': 31.768916155419223,\n",
       "             'Hungary': 40.648275862068964,\n",
       "             'Greece': 22.364425162689805,\n",
       "             'Romania': 15.241666666666667,\n",
       "             'Mexico': 26.785714285714285,\n",
       "             'Canada': 35.71259842519685,\n",
       "             'Turkey': 24.633333333333333,\n",
       "             'Czech Republic': 24.25,\n",
       "             'Slovenia': 24.8125,\n",
       "             'Luxembourg': 23.333333333333332,\n",
       "             'Croatia': 25.450704225352112,\n",
       "             'Georgia': 19.321428571428573,\n",
       "             'Uruguay': 26.40366972477064,\n",
       "             'England': 51.68115942028985,\n",
       "             'Lebanon': 30.685714285714287,\n",
       "             'Serbia': 24.5,\n",
       "             'Brazil': 23.76595744680851,\n",
       "             'Moldova': 16.74576271186441,\n",
       "             'Morocco': 19.5,\n",
       "             'Peru': 18.0625,\n",
       "             'India': 13.333333333333334,\n",
       "             'Bulgaria': 14.645390070921986,\n",
       "             'Cyprus': 16.272727272727273,\n",
       "             'Armenia': 14.5,\n",
       "             'Switzerland': 85.28571428571429,\n",
       "             'Bosnia and Herzegovina': 12.5,\n",
       "             'Ukraine': 9.214285714285714,\n",
       "             'Slovakia': 16.0,\n",
       "             'Macedonia': 15.583333333333334,\n",
       "             'China': 18.0})"
      ]
     },
     "execution_count": 12,
     "metadata": {},
     "output_type": "execute_result"
    }
   ],
   "source": [
    "country_price"
   ]
  },
  {
   "cell_type": "code",
   "execution_count": 23,
   "metadata": {},
   "outputs": [],
   "source": [
    "varieties = Counter()\n",
    "\n",
    "for ind, row in df.iterrows():\n",
    "    varieties[row['variety']] += 1"
   ]
  },
  {
   "cell_type": "code",
   "execution_count": 25,
   "metadata": {
    "scrolled": false
   },
   "outputs": [
    {
     "name": "stdout",
     "output_type": "stream",
     "text": [
      "[('Pinot Noir', 12785), ('Chardonnay', 11077), ('Cabernet Sauvignon', 9384), ('Red Blend', 8466), ('Bordeaux-style Red Blend', 5340), ('Riesling', 4971), ('Sauvignon Blanc', 4780), ('Syrah', 4086), ('Rosé', 3261), ('Merlot', 3061)]\n",
      "692\n"
     ]
    }
   ],
   "source": [
    "print(varieties.most_common(10))\n",
    "print(len(varieties))"
   ]
  },
  {
   "cell_type": "code",
   "execution_count": 37,
   "metadata": {},
   "outputs": [],
   "source": [
    "years = Counter()"
   ]
  },
  {
   "cell_type": "code",
   "execution_count": 41,
   "metadata": {},
   "outputs": [],
   "source": [
    "prices = Counter()\n",
    "\n",
    "for ind, row in df.iterrows():\n",
    "    prices[row['price']] += 1"
   ]
  },
  {
   "cell_type": "code",
   "execution_count": 43,
   "metadata": {},
   "outputs": [
    {
     "data": {
      "text/plain": [
       "[(20.0, 6938),\n",
       " (15.0, 6066),\n",
       " (25.0, 5796),\n",
       " (30.0, 4946),\n",
       " (18.0, 4881),\n",
       " (12.0, 3932),\n",
       " (40.0, 3871),\n",
       " (35.0, 3801),\n",
       " (13.0, 3548),\n",
       " (16.0, 3545)]"
      ]
     },
     "execution_count": 43,
     "metadata": {},
     "output_type": "execute_result"
    }
   ],
   "source": [
    "prices.most_common(10)"
   ]
  },
  {
   "cell_type": "code",
   "execution_count": 44,
   "metadata": {},
   "outputs": [],
   "source": [
    "score_price = Counter()\n",
    "score_count = Counter()"
   ]
  },
  {
   "cell_type": "code",
   "execution_count": 45,
   "metadata": {},
   "outputs": [],
   "source": [
    "for ind, row in df.iterrows():\n",
    "    score_price[row['points']] += row['price']\n",
    "    score_count[row['points']] += 1"
   ]
  },
  {
   "cell_type": "code",
   "execution_count": 48,
   "metadata": {},
   "outputs": [],
   "source": [
    "score_avgprice = {}\n",
    "\n",
    "for score, price in score_price.items():\n",
    "    score_avgprice[score] = price / score_count[score]"
   ]
  },
  {
   "cell_type": "code",
   "execution_count": 49,
   "metadata": {},
   "outputs": [
    {
     "data": {
      "text/plain": [
       "{87: 24.902734598058498,\n",
       " 86: 22.134156729131174,\n",
       " 85: 19.950455005055613,\n",
       " 88: 28.689472039987503,\n",
       " 92: 51.05042301184433,\n",
       " 91: 43.22776778103987,\n",
       " 90: 36.91221959035809,\n",
       " 89: 32.184857597735714,\n",
       " 83: 18.237352737352737,\n",
       " 82: 18.87076749435666,\n",
       " 81: 17.18235294117647,\n",
       " 80: 16.372151898734177,\n",
       " 100: 485.94736842105266,\n",
       " 98: 245.4927536231884,\n",
       " 97: 207.17391304347825,\n",
       " 96: 159.29253112033194,\n",
       " 95: 109.23541963015647,\n",
       " 93: 63.112215669755685,\n",
       " 94: 81.43693824296898,\n",
       " 84: 19.314580941446614,\n",
       " 99: 284.2142857142857}"
      ]
     },
     "execution_count": 49,
     "metadata": {},
     "output_type": "execute_result"
    }
   ],
   "source": [
    "score_avgprice"
   ]
  },
  {
   "cell_type": "code",
   "execution_count": null,
   "metadata": {},
   "outputs": [],
   "source": []
  }
 ],
 "metadata": {
  "kernelspec": {
   "display_name": "Python 3",
   "language": "python",
   "name": "python3"
  },
  "language_info": {
   "codemirror_mode": {
    "name": "ipython",
    "version": 3
   },
   "file_extension": ".py",
   "mimetype": "text/x-python",
   "name": "python",
   "nbconvert_exporter": "python",
   "pygments_lexer": "ipython3",
   "version": "3.6.7"
  }
 },
 "nbformat": 4,
 "nbformat_minor": 2
}
